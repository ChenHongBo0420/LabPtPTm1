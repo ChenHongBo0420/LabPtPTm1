{
  "nbformat": 4,
  "nbformat_minor": 0,
  "metadata": {
    "colab": {
      "provenance": []
    },
    "kernelspec": {
      "name": "python3",
      "display_name": "Python 3"
    },
    "language_info": {
      "name": "python"
    }
  },
  "cells": [
    {
      "cell_type": "code",
      "execution_count": 1,
      "metadata": {
        "colab": {
          "base_uri": "https://localhost:8080/"
        },
        "id": "sGrqeYdmzjLm",
        "outputId": "a585019e-4662-4ee0-b3c3-cb3ec7f130f7"
      },
      "outputs": [
        {
          "output_type": "stream",
          "name": "stdout",
          "text": [
            "Collecting https://github.com/ChenHongBo0420/LabPtPTm1/archive/master.zip\n",
            "  Downloading https://github.com/ChenHongBo0420/LabPtPTm1/archive/master.zip\n",
            "\u001b[2K     \u001b[32m-\u001b[0m \u001b[32m14.5 kB\u001b[0m \u001b[31m116.4 kB/s\u001b[0m \u001b[33m0:00:00\u001b[0m\n",
            "\u001b[?25h  Preparing metadata (setup.py) ... \u001b[?25l\u001b[?25hdone\n",
            "Collecting zarr==2.10.3 (from zarr[jupyter]==2.10.3->labptptm1==0.2.1)\n",
            "  Downloading zarr-2.10.3-py3-none-any.whl.metadata (4.6 kB)\n",
            "Collecting numcodecs==0.10.2 (from labptptm1==0.2.1)\n",
            "  Downloading numcodecs-0.10.2.tar.gz (4.5 MB)\n",
            "\u001b[2K     \u001b[90m━━━━━━━━━━━━━━━━━━━━━━━━━━━━━━━━━━━━━━━━\u001b[0m \u001b[32m4.5/4.5 MB\u001b[0m \u001b[31m27.9 MB/s\u001b[0m eta \u001b[36m0:00:00\u001b[0m\n",
            "\u001b[?25h  Preparing metadata (setup.py) ... \u001b[?25l\u001b[?25hdone\n",
            "Requirement already satisfied: fsspec in /usr/local/lib/python3.11/dist-packages (from labptptm1==0.2.1) (2025.3.2)\n",
            "Collecting s3fs (from labptptm1==0.2.1)\n",
            "  Downloading s3fs-2025.5.1-py3-none-any.whl.metadata (1.9 kB)\n",
            "Requirement already satisfied: pyyaml in /usr/local/lib/python3.11/dist-packages (from labptptm1==0.2.1) (6.0.2)\n",
            "Requirement already satisfied: entrypoints in /usr/local/lib/python3.11/dist-packages (from numcodecs==0.10.2->labptptm1==0.2.1) (0.4)\n",
            "Requirement already satisfied: numpy>=1.7 in /usr/local/lib/python3.11/dist-packages (from numcodecs==0.10.2->labptptm1==0.2.1) (2.0.2)\n",
            "Requirement already satisfied: typing-extensions>=3.7.4 in /usr/local/lib/python3.11/dist-packages (from numcodecs==0.10.2->labptptm1==0.2.1) (4.14.0)\n",
            "Collecting asciitree (from zarr==2.10.3->zarr[jupyter]==2.10.3->labptptm1==0.2.1)\n",
            "  Downloading asciitree-0.3.3.tar.gz (4.0 kB)\n",
            "  Preparing metadata (setup.py) ... \u001b[?25l\u001b[?25hdone\n",
            "Collecting fasteners (from zarr==2.10.3->zarr[jupyter]==2.10.3->labptptm1==0.2.1)\n",
            "  Downloading fasteners-0.19-py3-none-any.whl.metadata (4.9 kB)\n",
            "Requirement already satisfied: notebook in /usr/local/lib/python3.11/dist-packages (from zarr[jupyter]==2.10.3->labptptm1==0.2.1) (6.5.7)\n",
            "Requirement already satisfied: ipytree in /usr/local/lib/python3.11/dist-packages (from zarr[jupyter]==2.10.3->labptptm1==0.2.1) (0.2.2)\n",
            "Collecting aiobotocore<3.0.0,>=2.5.4 (from s3fs->labptptm1==0.2.1)\n",
            "  Downloading aiobotocore-2.23.0-py3-none-any.whl.metadata (24 kB)\n",
            "Collecting fsspec (from labptptm1==0.2.1)\n",
            "  Downloading fsspec-2025.5.1-py3-none-any.whl.metadata (11 kB)\n",
            "Requirement already satisfied: aiohttp!=4.0.0a0,!=4.0.0a1 in /usr/local/lib/python3.11/dist-packages (from s3fs->labptptm1==0.2.1) (3.11.15)\n",
            "Collecting aioitertools<1.0.0,>=0.5.1 (from aiobotocore<3.0.0,>=2.5.4->s3fs->labptptm1==0.2.1)\n",
            "  Downloading aioitertools-0.12.0-py3-none-any.whl.metadata (3.8 kB)\n",
            "Collecting botocore<1.38.28,>=1.38.23 (from aiobotocore<3.0.0,>=2.5.4->s3fs->labptptm1==0.2.1)\n",
            "  Downloading botocore-1.38.27-py3-none-any.whl.metadata (5.7 kB)\n",
            "Requirement already satisfied: python-dateutil<3.0.0,>=2.1 in /usr/local/lib/python3.11/dist-packages (from aiobotocore<3.0.0,>=2.5.4->s3fs->labptptm1==0.2.1) (2.9.0.post0)\n",
            "Collecting jmespath<2.0.0,>=0.7.1 (from aiobotocore<3.0.0,>=2.5.4->s3fs->labptptm1==0.2.1)\n",
            "  Downloading jmespath-1.0.1-py3-none-any.whl.metadata (7.6 kB)\n",
            "Requirement already satisfied: multidict<7.0.0,>=6.0.0 in /usr/local/lib/python3.11/dist-packages (from aiobotocore<3.0.0,>=2.5.4->s3fs->labptptm1==0.2.1) (6.4.4)\n",
            "Requirement already satisfied: wrapt<2.0.0,>=1.10.10 in /usr/local/lib/python3.11/dist-packages (from aiobotocore<3.0.0,>=2.5.4->s3fs->labptptm1==0.2.1) (1.17.2)\n",
            "Requirement already satisfied: aiohappyeyeballs>=2.3.0 in /usr/local/lib/python3.11/dist-packages (from aiohttp!=4.0.0a0,!=4.0.0a1->s3fs->labptptm1==0.2.1) (2.6.1)\n",
            "Requirement already satisfied: aiosignal>=1.1.2 in /usr/local/lib/python3.11/dist-packages (from aiohttp!=4.0.0a0,!=4.0.0a1->s3fs->labptptm1==0.2.1) (1.3.2)\n",
            "Requirement already satisfied: attrs>=17.3.0 in /usr/local/lib/python3.11/dist-packages (from aiohttp!=4.0.0a0,!=4.0.0a1->s3fs->labptptm1==0.2.1) (25.3.0)\n",
            "Requirement already satisfied: frozenlist>=1.1.1 in /usr/local/lib/python3.11/dist-packages (from aiohttp!=4.0.0a0,!=4.0.0a1->s3fs->labptptm1==0.2.1) (1.7.0)\n",
            "Requirement already satisfied: propcache>=0.2.0 in /usr/local/lib/python3.11/dist-packages (from aiohttp!=4.0.0a0,!=4.0.0a1->s3fs->labptptm1==0.2.1) (0.3.2)\n",
            "Requirement already satisfied: yarl<2.0,>=1.17.0 in /usr/local/lib/python3.11/dist-packages (from aiohttp!=4.0.0a0,!=4.0.0a1->s3fs->labptptm1==0.2.1) (1.20.1)\n",
            "Requirement already satisfied: ipywidgets<9,>=7.5.0 in /usr/local/lib/python3.11/dist-packages (from ipytree->zarr[jupyter]==2.10.3->labptptm1==0.2.1) (7.7.1)\n",
            "Requirement already satisfied: jinja2 in /usr/local/lib/python3.11/dist-packages (from notebook->zarr[jupyter]==2.10.3->labptptm1==0.2.1) (3.1.6)\n",
            "Requirement already satisfied: tornado>=6.1 in /usr/local/lib/python3.11/dist-packages (from notebook->zarr[jupyter]==2.10.3->labptptm1==0.2.1) (6.4.2)\n",
            "Requirement already satisfied: pyzmq>=17 in /usr/local/lib/python3.11/dist-packages (from notebook->zarr[jupyter]==2.10.3->labptptm1==0.2.1) (24.0.1)\n",
            "Requirement already satisfied: argon2-cffi in /usr/local/lib/python3.11/dist-packages (from notebook->zarr[jupyter]==2.10.3->labptptm1==0.2.1) (25.1.0)\n",
            "Requirement already satisfied: traitlets>=4.2.1 in /usr/local/lib/python3.11/dist-packages (from notebook->zarr[jupyter]==2.10.3->labptptm1==0.2.1) (5.7.1)\n",
            "Requirement already satisfied: jupyter-core>=4.6.1 in /usr/local/lib/python3.11/dist-packages (from notebook->zarr[jupyter]==2.10.3->labptptm1==0.2.1) (5.8.1)\n",
            "Requirement already satisfied: jupyter-client<8,>=5.3.4 in /usr/local/lib/python3.11/dist-packages (from notebook->zarr[jupyter]==2.10.3->labptptm1==0.2.1) (6.1.12)\n",
            "Requirement already satisfied: ipython-genutils in /usr/local/lib/python3.11/dist-packages (from notebook->zarr[jupyter]==2.10.3->labptptm1==0.2.1) (0.2.0)\n",
            "Requirement already satisfied: nbformat in /usr/local/lib/python3.11/dist-packages (from notebook->zarr[jupyter]==2.10.3->labptptm1==0.2.1) (5.10.4)\n",
            "Requirement already satisfied: nbconvert>=5 in /usr/local/lib/python3.11/dist-packages (from notebook->zarr[jupyter]==2.10.3->labptptm1==0.2.1) (7.16.6)\n",
            "Requirement already satisfied: nest-asyncio>=1.5 in /usr/local/lib/python3.11/dist-packages (from notebook->zarr[jupyter]==2.10.3->labptptm1==0.2.1) (1.6.0)\n",
            "Requirement already satisfied: ipykernel in /usr/local/lib/python3.11/dist-packages (from notebook->zarr[jupyter]==2.10.3->labptptm1==0.2.1) (6.17.1)\n",
            "Requirement already satisfied: Send2Trash>=1.8.0 in /usr/local/lib/python3.11/dist-packages (from notebook->zarr[jupyter]==2.10.3->labptptm1==0.2.1) (1.8.3)\n",
            "Requirement already satisfied: terminado>=0.8.3 in /usr/local/lib/python3.11/dist-packages (from notebook->zarr[jupyter]==2.10.3->labptptm1==0.2.1) (0.18.1)\n",
            "Requirement already satisfied: prometheus-client in /usr/local/lib/python3.11/dist-packages (from notebook->zarr[jupyter]==2.10.3->labptptm1==0.2.1) (0.22.1)\n",
            "Requirement already satisfied: nbclassic>=0.4.7 in /usr/local/lib/python3.11/dist-packages (from notebook->zarr[jupyter]==2.10.3->labptptm1==0.2.1) (1.3.1)\n",
            "Requirement already satisfied: urllib3!=2.2.0,<3,>=1.25.4 in /usr/local/lib/python3.11/dist-packages (from botocore<1.38.28,>=1.38.23->aiobotocore<3.0.0,>=2.5.4->s3fs->labptptm1==0.2.1) (2.4.0)\n",
            "Requirement already satisfied: widgetsnbextension~=3.6.0 in /usr/local/lib/python3.11/dist-packages (from ipywidgets<9,>=7.5.0->ipytree->zarr[jupyter]==2.10.3->labptptm1==0.2.1) (3.6.10)\n",
            "Requirement already satisfied: ipython>=4.0.0 in /usr/local/lib/python3.11/dist-packages (from ipywidgets<9,>=7.5.0->ipytree->zarr[jupyter]==2.10.3->labptptm1==0.2.1) (7.34.0)\n",
            "Requirement already satisfied: jupyterlab-widgets>=1.0.0 in /usr/local/lib/python3.11/dist-packages (from ipywidgets<9,>=7.5.0->ipytree->zarr[jupyter]==2.10.3->labptptm1==0.2.1) (3.0.15)\n",
            "Requirement already satisfied: debugpy>=1.0 in /usr/local/lib/python3.11/dist-packages (from ipykernel->notebook->zarr[jupyter]==2.10.3->labptptm1==0.2.1) (1.8.0)\n",
            "Requirement already satisfied: matplotlib-inline>=0.1 in /usr/local/lib/python3.11/dist-packages (from ipykernel->notebook->zarr[jupyter]==2.10.3->labptptm1==0.2.1) (0.1.7)\n",
            "Requirement already satisfied: packaging in /usr/local/lib/python3.11/dist-packages (from ipykernel->notebook->zarr[jupyter]==2.10.3->labptptm1==0.2.1) (24.2)\n",
            "Requirement already satisfied: psutil in /usr/local/lib/python3.11/dist-packages (from ipykernel->notebook->zarr[jupyter]==2.10.3->labptptm1==0.2.1) (5.9.5)\n",
            "Requirement already satisfied: platformdirs>=2.5 in /usr/local/lib/python3.11/dist-packages (from jupyter-core>=4.6.1->notebook->zarr[jupyter]==2.10.3->labptptm1==0.2.1) (4.3.8)\n",
            "Requirement already satisfied: notebook-shim>=0.2.3 in /usr/local/lib/python3.11/dist-packages (from nbclassic>=0.4.7->notebook->zarr[jupyter]==2.10.3->labptptm1==0.2.1) (0.2.4)\n",
            "Requirement already satisfied: beautifulsoup4 in /usr/local/lib/python3.11/dist-packages (from nbconvert>=5->notebook->zarr[jupyter]==2.10.3->labptptm1==0.2.1) (4.13.4)\n",
            "Requirement already satisfied: bleach!=5.0.0 in /usr/local/lib/python3.11/dist-packages (from bleach[css]!=5.0.0->nbconvert>=5->notebook->zarr[jupyter]==2.10.3->labptptm1==0.2.1) (6.2.0)\n",
            "Requirement already satisfied: defusedxml in /usr/local/lib/python3.11/dist-packages (from nbconvert>=5->notebook->zarr[jupyter]==2.10.3->labptptm1==0.2.1) (0.7.1)\n",
            "Requirement already satisfied: jupyterlab-pygments in /usr/local/lib/python3.11/dist-packages (from nbconvert>=5->notebook->zarr[jupyter]==2.10.3->labptptm1==0.2.1) (0.3.0)\n",
            "Requirement already satisfied: markupsafe>=2.0 in /usr/local/lib/python3.11/dist-packages (from nbconvert>=5->notebook->zarr[jupyter]==2.10.3->labptptm1==0.2.1) (3.0.2)\n",
            "Requirement already satisfied: mistune<4,>=2.0.3 in /usr/local/lib/python3.11/dist-packages (from nbconvert>=5->notebook->zarr[jupyter]==2.10.3->labptptm1==0.2.1) (3.1.3)\n",
            "Requirement already satisfied: nbclient>=0.5.0 in /usr/local/lib/python3.11/dist-packages (from nbconvert>=5->notebook->zarr[jupyter]==2.10.3->labptptm1==0.2.1) (0.10.2)\n",
            "Requirement already satisfied: pandocfilters>=1.4.1 in /usr/local/lib/python3.11/dist-packages (from nbconvert>=5->notebook->zarr[jupyter]==2.10.3->labptptm1==0.2.1) (1.5.1)\n",
            "Requirement already satisfied: pygments>=2.4.1 in /usr/local/lib/python3.11/dist-packages (from nbconvert>=5->notebook->zarr[jupyter]==2.10.3->labptptm1==0.2.1) (2.19.1)\n",
            "Requirement already satisfied: fastjsonschema>=2.15 in /usr/local/lib/python3.11/dist-packages (from nbformat->notebook->zarr[jupyter]==2.10.3->labptptm1==0.2.1) (2.21.1)\n",
            "Requirement already satisfied: jsonschema>=2.6 in /usr/local/lib/python3.11/dist-packages (from nbformat->notebook->zarr[jupyter]==2.10.3->labptptm1==0.2.1) (4.24.0)\n",
            "Requirement already satisfied: six>=1.5 in /usr/local/lib/python3.11/dist-packages (from python-dateutil<3.0.0,>=2.1->aiobotocore<3.0.0,>=2.5.4->s3fs->labptptm1==0.2.1) (1.17.0)\n",
            "Requirement already satisfied: ptyprocess in /usr/local/lib/python3.11/dist-packages (from terminado>=0.8.3->notebook->zarr[jupyter]==2.10.3->labptptm1==0.2.1) (0.7.0)\n",
            "Requirement already satisfied: idna>=2.0 in /usr/local/lib/python3.11/dist-packages (from yarl<2.0,>=1.17.0->aiohttp!=4.0.0a0,!=4.0.0a1->s3fs->labptptm1==0.2.1) (3.10)\n",
            "Requirement already satisfied: argon2-cffi-bindings in /usr/local/lib/python3.11/dist-packages (from argon2-cffi->notebook->zarr[jupyter]==2.10.3->labptptm1==0.2.1) (21.2.0)\n",
            "Requirement already satisfied: webencodings in /usr/local/lib/python3.11/dist-packages (from bleach!=5.0.0->bleach[css]!=5.0.0->nbconvert>=5->notebook->zarr[jupyter]==2.10.3->labptptm1==0.2.1) (0.5.1)\n",
            "Requirement already satisfied: tinycss2<1.5,>=1.1.0 in /usr/local/lib/python3.11/dist-packages (from bleach[css]!=5.0.0->nbconvert>=5->notebook->zarr[jupyter]==2.10.3->labptptm1==0.2.1) (1.4.0)\n",
            "Requirement already satisfied: setuptools>=18.5 in /usr/local/lib/python3.11/dist-packages (from ipython>=4.0.0->ipywidgets<9,>=7.5.0->ipytree->zarr[jupyter]==2.10.3->labptptm1==0.2.1) (75.2.0)\n",
            "Collecting jedi>=0.16 (from ipython>=4.0.0->ipywidgets<9,>=7.5.0->ipytree->zarr[jupyter]==2.10.3->labptptm1==0.2.1)\n",
            "  Downloading jedi-0.19.2-py2.py3-none-any.whl.metadata (22 kB)\n",
            "Requirement already satisfied: decorator in /usr/local/lib/python3.11/dist-packages (from ipython>=4.0.0->ipywidgets<9,>=7.5.0->ipytree->zarr[jupyter]==2.10.3->labptptm1==0.2.1) (4.4.2)\n",
            "Requirement already satisfied: pickleshare in /usr/local/lib/python3.11/dist-packages (from ipython>=4.0.0->ipywidgets<9,>=7.5.0->ipytree->zarr[jupyter]==2.10.3->labptptm1==0.2.1) (0.7.5)\n",
            "Requirement already satisfied: prompt-toolkit!=3.0.0,!=3.0.1,<3.1.0,>=2.0.0 in /usr/local/lib/python3.11/dist-packages (from ipython>=4.0.0->ipywidgets<9,>=7.5.0->ipytree->zarr[jupyter]==2.10.3->labptptm1==0.2.1) (3.0.51)\n",
            "Requirement already satisfied: backcall in /usr/local/lib/python3.11/dist-packages (from ipython>=4.0.0->ipywidgets<9,>=7.5.0->ipytree->zarr[jupyter]==2.10.3->labptptm1==0.2.1) (0.2.0)\n",
            "Requirement already satisfied: pexpect>4.3 in /usr/local/lib/python3.11/dist-packages (from ipython>=4.0.0->ipywidgets<9,>=7.5.0->ipytree->zarr[jupyter]==2.10.3->labptptm1==0.2.1) (4.9.0)\n",
            "Requirement already satisfied: jsonschema-specifications>=2023.03.6 in /usr/local/lib/python3.11/dist-packages (from jsonschema>=2.6->nbformat->notebook->zarr[jupyter]==2.10.3->labptptm1==0.2.1) (2025.4.1)\n",
            "Requirement already satisfied: referencing>=0.28.4 in /usr/local/lib/python3.11/dist-packages (from jsonschema>=2.6->nbformat->notebook->zarr[jupyter]==2.10.3->labptptm1==0.2.1) (0.36.2)\n",
            "Requirement already satisfied: rpds-py>=0.7.1 in /usr/local/lib/python3.11/dist-packages (from jsonschema>=2.6->nbformat->notebook->zarr[jupyter]==2.10.3->labptptm1==0.2.1) (0.25.1)\n",
            "Requirement already satisfied: jupyter-server<3,>=1.8 in /usr/local/lib/python3.11/dist-packages (from notebook-shim>=0.2.3->nbclassic>=0.4.7->notebook->zarr[jupyter]==2.10.3->labptptm1==0.2.1) (1.16.0)\n",
            "Requirement already satisfied: cffi>=1.0.1 in /usr/local/lib/python3.11/dist-packages (from argon2-cffi-bindings->argon2-cffi->notebook->zarr[jupyter]==2.10.3->labptptm1==0.2.1) (1.17.1)\n",
            "Requirement already satisfied: soupsieve>1.2 in /usr/local/lib/python3.11/dist-packages (from beautifulsoup4->nbconvert>=5->notebook->zarr[jupyter]==2.10.3->labptptm1==0.2.1) (2.7)\n",
            "Requirement already satisfied: pycparser in /usr/local/lib/python3.11/dist-packages (from cffi>=1.0.1->argon2-cffi-bindings->argon2-cffi->notebook->zarr[jupyter]==2.10.3->labptptm1==0.2.1) (2.22)\n",
            "Requirement already satisfied: parso<0.9.0,>=0.8.4 in /usr/local/lib/python3.11/dist-packages (from jedi>=0.16->ipython>=4.0.0->ipywidgets<9,>=7.5.0->ipytree->zarr[jupyter]==2.10.3->labptptm1==0.2.1) (0.8.4)\n",
            "Requirement already satisfied: anyio>=3.1.0 in /usr/local/lib/python3.11/dist-packages (from jupyter-server<3,>=1.8->notebook-shim>=0.2.3->nbclassic>=0.4.7->notebook->zarr[jupyter]==2.10.3->labptptm1==0.2.1) (4.9.0)\n",
            "Requirement already satisfied: websocket-client in /usr/local/lib/python3.11/dist-packages (from jupyter-server<3,>=1.8->notebook-shim>=0.2.3->nbclassic>=0.4.7->notebook->zarr[jupyter]==2.10.3->labptptm1==0.2.1) (1.8.0)\n",
            "Requirement already satisfied: wcwidth in /usr/local/lib/python3.11/dist-packages (from prompt-toolkit!=3.0.0,!=3.0.1,<3.1.0,>=2.0.0->ipython>=4.0.0->ipywidgets<9,>=7.5.0->ipytree->zarr[jupyter]==2.10.3->labptptm1==0.2.1) (0.2.13)\n",
            "Requirement already satisfied: sniffio>=1.1 in /usr/local/lib/python3.11/dist-packages (from anyio>=3.1.0->jupyter-server<3,>=1.8->notebook-shim>=0.2.3->nbclassic>=0.4.7->notebook->zarr[jupyter]==2.10.3->labptptm1==0.2.1) (1.3.1)\n",
            "Downloading zarr-2.10.3-py3-none-any.whl (146 kB)\n",
            "\u001b[2K   \u001b[90m━━━━━━━━━━━━━━━━━━━━━━━━━━━━━━━━━━━━━━━━\u001b[0m \u001b[32m146.5/146.5 kB\u001b[0m \u001b[31m16.7 MB/s\u001b[0m eta \u001b[36m0:00:00\u001b[0m\n",
            "\u001b[?25hDownloading s3fs-2025.5.1-py3-none-any.whl (30 kB)\n",
            "Downloading fsspec-2025.5.1-py3-none-any.whl (199 kB)\n",
            "\u001b[2K   \u001b[90m━━━━━━━━━━━━━━━━━━━━━━━━━━━━━━━━━━━━━━━━\u001b[0m \u001b[32m199.1/199.1 kB\u001b[0m \u001b[31m20.1 MB/s\u001b[0m eta \u001b[36m0:00:00\u001b[0m\n",
            "\u001b[?25hDownloading aiobotocore-2.23.0-py3-none-any.whl (84 kB)\n",
            "\u001b[2K   \u001b[90m━━━━━━━━━━━━━━━━━━━━━━━━━━━━━━━━━━━━━━━━\u001b[0m \u001b[32m84.2/84.2 kB\u001b[0m \u001b[31m9.0 MB/s\u001b[0m eta \u001b[36m0:00:00\u001b[0m\n",
            "\u001b[?25hDownloading fasteners-0.19-py3-none-any.whl (18 kB)\n",
            "Downloading aioitertools-0.12.0-py3-none-any.whl (24 kB)\n",
            "Downloading botocore-1.38.27-py3-none-any.whl (13.6 MB)\n",
            "\u001b[2K   \u001b[90m━━━━━━━━━━━━━━━━━━━━━━━━━━━━━━━━━━━━━━━━\u001b[0m \u001b[32m13.6/13.6 MB\u001b[0m \u001b[31m95.2 MB/s\u001b[0m eta \u001b[36m0:00:00\u001b[0m\n",
            "\u001b[?25hDownloading jmespath-1.0.1-py3-none-any.whl (20 kB)\n",
            "Downloading jedi-0.19.2-py2.py3-none-any.whl (1.6 MB)\n",
            "\u001b[2K   \u001b[90m━━━━━━━━━━━━━━━━━━━━━━━━━━━━━━━━━━━━━━━━\u001b[0m \u001b[32m1.6/1.6 MB\u001b[0m \u001b[31m76.0 MB/s\u001b[0m eta \u001b[36m0:00:00\u001b[0m\n",
            "\u001b[?25hBuilding wheels for collected packages: labptptm1, numcodecs, asciitree\n",
            "  Building wheel for labptptm1 (setup.py) ... \u001b[?25l\u001b[?25hdone\n",
            "  Created wheel for labptptm1: filename=labptptm1-0.2.1-py3-none-any.whl size=3559 sha256=89e262a13be4a4e7756eb28cd4bdd9dca344470f731f28a569530f967bb68c13\n",
            "  Stored in directory: /tmp/pip-ephem-wheel-cache-2h7i36zc/wheels/b2/0b/7d/a66fa2c385c09301f0687683bfdf56b215f4542ea03dc2e1c0\n",
            "  Building wheel for numcodecs (setup.py) ... \u001b[?25l\u001b[?25hdone\n",
            "  Created wheel for numcodecs: filename=numcodecs-0.10.2-cp311-cp311-linux_x86_64.whl size=5770458 sha256=c5be3499a5e225cc977a6470355b297b8f34f214b152d0e033fde98257d2a8d8\n",
            "  Stored in directory: /root/.cache/pip/wheels/89/f9/72/1e44f201207b8cc521a740fc1691404833f333c27a5421d473\n",
            "  Building wheel for asciitree (setup.py) ... \u001b[?25l\u001b[?25hdone\n",
            "  Created wheel for asciitree: filename=asciitree-0.3.3-py3-none-any.whl size=5031 sha256=93cbadca24c63d6de002a7b19746994fed8441bcb2a52980ff80bdb8b0da05a5\n",
            "  Stored in directory: /root/.cache/pip/wheels/71/c1/da/23077eb3b87d24d6f3852ed1ed1a1ac2d3c885ad6ebd2b4a07\n",
            "Successfully built labptptm1 numcodecs asciitree\n",
            "Installing collected packages: asciitree, numcodecs, jmespath, jedi, fsspec, fasteners, aioitertools, zarr, botocore, aiobotocore, s3fs, labptptm1\n",
            "  Attempting uninstall: fsspec\n",
            "    Found existing installation: fsspec 2025.3.2\n",
            "    Uninstalling fsspec-2025.3.2:\n",
            "      Successfully uninstalled fsspec-2025.3.2\n",
            "\u001b[31mERROR: pip's dependency resolver does not currently take into account all the packages that are installed. This behaviour is the source of the following dependency conflicts.\n",
            "gcsfs 2025.3.2 requires fsspec==2025.3.2, but you have fsspec 2025.5.1 which is incompatible.\n",
            "torch 2.6.0+cu124 requires nvidia-cublas-cu12==12.4.5.8; platform_system == \"Linux\" and platform_machine == \"x86_64\", but you have nvidia-cublas-cu12 12.5.3.2 which is incompatible.\n",
            "torch 2.6.0+cu124 requires nvidia-cuda-cupti-cu12==12.4.127; platform_system == \"Linux\" and platform_machine == \"x86_64\", but you have nvidia-cuda-cupti-cu12 12.5.82 which is incompatible.\n",
            "torch 2.6.0+cu124 requires nvidia-cuda-nvrtc-cu12==12.4.127; platform_system == \"Linux\" and platform_machine == \"x86_64\", but you have nvidia-cuda-nvrtc-cu12 12.5.82 which is incompatible.\n",
            "torch 2.6.0+cu124 requires nvidia-cuda-runtime-cu12==12.4.127; platform_system == \"Linux\" and platform_machine == \"x86_64\", but you have nvidia-cuda-runtime-cu12 12.5.82 which is incompatible.\n",
            "torch 2.6.0+cu124 requires nvidia-cudnn-cu12==9.1.0.70; platform_system == \"Linux\" and platform_machine == \"x86_64\", but you have nvidia-cudnn-cu12 9.3.0.75 which is incompatible.\n",
            "torch 2.6.0+cu124 requires nvidia-cufft-cu12==11.2.1.3; platform_system == \"Linux\" and platform_machine == \"x86_64\", but you have nvidia-cufft-cu12 11.2.3.61 which is incompatible.\n",
            "torch 2.6.0+cu124 requires nvidia-curand-cu12==10.3.5.147; platform_system == \"Linux\" and platform_machine == \"x86_64\", but you have nvidia-curand-cu12 10.3.6.82 which is incompatible.\n",
            "torch 2.6.0+cu124 requires nvidia-cusolver-cu12==11.6.1.9; platform_system == \"Linux\" and platform_machine == \"x86_64\", but you have nvidia-cusolver-cu12 11.6.3.83 which is incompatible.\n",
            "torch 2.6.0+cu124 requires nvidia-cusparse-cu12==12.3.1.170; platform_system == \"Linux\" and platform_machine == \"x86_64\", but you have nvidia-cusparse-cu12 12.5.1.3 which is incompatible.\n",
            "torch 2.6.0+cu124 requires nvidia-nvjitlink-cu12==12.4.127; platform_system == \"Linux\" and platform_machine == \"x86_64\", but you have nvidia-nvjitlink-cu12 12.5.82 which is incompatible.\u001b[0m\u001b[31m\n",
            "\u001b[0mSuccessfully installed aiobotocore-2.23.0 aioitertools-0.12.0 asciitree-0.3.3 botocore-1.38.27 fasteners-0.19 fsspec-2025.5.1 jedi-0.19.2 jmespath-1.0.1 labptptm1-0.2.1 numcodecs-0.10.2 s3fs-2025.5.1 zarr-2.10.3\n"
          ]
        },
        {
          "output_type": "stream",
          "name": "stderr",
          "text": [
            "WARNING:root:Data would be auto-cached in default temporary location: /tmp/labptptm1, set labptptm1.config.cache_storage to other locations to suppress this warning\n"
          ]
        }
      ],
      "source": [
        "import numpy as np\n",
        "if not hasattr(np, 'PINF'):\n",
        "    np.PINF = np.inf\n",
        "if not hasattr(np, 'NINF'):\n",
        "    np.NINF = -np.inf\n",
        "\n",
        "try:\n",
        "  import labptptm1\n",
        "except ModuleNotFoundError:\n",
        "  %pip install https://github.com/ChenHongBo0420/LabPtPTm1/archive/master.zip\n",
        "\n",
        "import labptptm1\n",
        "import zarr\n",
        "\n",
        "# 0\tDP16QAM_RRC0.2_28GBd_1ch         [-47, -35, -20, -6, 9, 26, 41]\n",
        "# 1\tDP16QAM_RRC0.2_28GBd_1ch_SSNLW   [-58, -48, -35, -20, -5, 9, 27, 34]\n",
        "# 2\tDP16QAM_RRC0.2_28GBd_5ch_SSNLW   [-50, -35, -18, -5, 9, 24, 37]\n",
        "# 3\tDP16QAM_RRC0.2_34GBd_5ch_SSNLW   [-51, -35, -20, -6, 8, 24, 36]\n",
        "# 4\tSP16QAM_RRC0.01_28GBd_1ch_SSNLW  [-57, -42, -26, -10, 4, 20, 34]\n",
        "# 5\tSP16QAM_RRC0.1_28GBd_1ch_SSNLW   [-54, -38, -24, -8, 7, 19, 36]\n",
        "# 6\tSP16QAM_RRC0.2_28GBd_1ch         [-52, -41, -26, -10, 5, 19, 35]\n",
        "# 7\tSP16QAM_RRC0.2_28GBd_1ch_SSNLW   [-55, -40, -20, -5, 10, 22, 35]\n",
        "# 8\tSPQPSK_RRC0.2_28GBd_1ch_SSNLW    [-54, -38, -24, -10, 7, 21, 35]\n",
        "\n",
        "\n",
        "\n",
        "\n",
        "# 可用的发射功率（dBm）： [-47, -35, -20, -6, 9, 26, 41]"
      ]
    },
    {
      "cell_type": "code",
      "source": [
        "import numpy as np\n",
        "import labptptm1\n",
        "\n",
        "root    = labptptm1.open_group()\n",
        "mods    = list(root['815km_SSMF'].keys())\n",
        "mod_key = mods[1]                       # 例如：'DP16QAM_RRC0.2_28GBd_1ch'\n",
        "\n",
        "# ── ① 读取所有发射功率标签 ─────────────────────────────────────────────\n",
        "lp_reps = list(root['815km_SSMF'][mod_key].keys())\n",
        "\n",
        "# ── ② 把 “LPxx” → 十分贝整数 → 排好序 ────────────────────────────────\n",
        "lp_vals_0p1dB = sorted({\n",
        "    int(name.split('_')[0][2:])        # 'LP-47_xxx' → -47\n",
        "    for name in lp_reps\n",
        "})\n",
        "\n",
        "print(\"原始（0.1 dB 步进）：\", lp_vals_0p1dB)    # [-47, -35, …, 41]\n",
        "\n",
        "# ── ③ 十分贝整数 ÷10  得到真正 dBm ───────────────────────────────────\n",
        "lp_dbm = np.array(lp_vals_0p1dB) / 10.0\n",
        "print(\"转换后发射功率 (dBm)：\", lp_dbm)          # [-4.7, -3.5, …, 4.1]\n",
        "\n",
        "# 如果后面想算瓦特：\n",
        "# P_W = 10 ** ((lp_dbm - 30) / 10)\n",
        "\n"
      ],
      "metadata": {
        "colab": {
          "base_uri": "https://localhost:8080/"
        },
        "id": "R_1_mQOD0JyB",
        "outputId": "85bfb86f-d467-4ec2-f2e6-d5c940ddc6f4"
      },
      "execution_count": 36,
      "outputs": [
        {
          "output_type": "stream",
          "name": "stdout",
          "text": [
            "原始（0.1 dB 步进）： [-58, -48, -35, -20, -5, 9, 27, 34]\n",
            "转换后发射功率 (dBm)： [-5.8 -4.8 -3.5 -2.  -0.5  0.9  2.7  3.4]\n"
          ]
        }
      ]
    },
    {
      "cell_type": "code",
      "source": [
        "data_groups, _ = labptptm1.select(2, -50, 1)"
      ],
      "metadata": {
        "id": "zbwaVkk4Uual"
      },
      "execution_count": 42,
      "outputs": []
    },
    {
      "cell_type": "code",
      "source": [
        "data_groups[0].info"
      ],
      "metadata": {
        "colab": {
          "base_uri": "https://localhost:8080/",
          "height": 211
        },
        "id": "ME71u4VfVRbW",
        "outputId": "2219d185-cc15-41d9-a740-0533265bc0c8"
      },
      "execution_count": 43,
      "outputs": [
        {
          "output_type": "execute_result",
          "data": {
            "text/plain": [
              "Name             : /815km_SSMF/DP16QAM_RRC0.2_28GBd_5ch_SSNLW/LP-50_1\n",
              "Type             : zarr.hierarchy.Group\n",
              "Read-only        : False\n",
              "Store type       : zarr.storage.ConsolidatedMetadataStore\n",
              "Chunk store type : zarr.storage.FSStore\n",
              "No. members      : 2\n",
              "No. arrays       : 2\n",
              "No. groups       : 0\n",
              "Arrays           : recv, sent"
            ],
            "text/html": [
              "<table class=\"zarr-info\"><tbody><tr><th style=\"text-align: left\">Name</th><td style=\"text-align: left\">/815km_SSMF/DP16QAM_RRC0.2_28GBd_5ch_SSNLW/LP-50_1</td></tr><tr><th style=\"text-align: left\">Type</th><td style=\"text-align: left\">zarr.hierarchy.Group</td></tr><tr><th style=\"text-align: left\">Read-only</th><td style=\"text-align: left\">False</td></tr><tr><th style=\"text-align: left\">Store type</th><td style=\"text-align: left\">zarr.storage.ConsolidatedMetadataStore</td></tr><tr><th style=\"text-align: left\">Chunk store type</th><td style=\"text-align: left\">zarr.storage.FSStore</td></tr><tr><th style=\"text-align: left\">No. members</th><td style=\"text-align: left\">2</td></tr><tr><th style=\"text-align: left\">No. arrays</th><td style=\"text-align: left\">2</td></tr><tr><th style=\"text-align: left\">No. groups</th><td style=\"text-align: left\">0</td></tr><tr><th style=\"text-align: left\">Arrays</th><td style=\"text-align: left\">recv, sent</td></tr></tbody></table>"
            ]
          },
          "metadata": {},
          "execution_count": 43
        }
      ]
    },
    {
      "cell_type": "code",
      "source": [
        "data_groups[0]['recv'].info"
      ],
      "metadata": {
        "colab": {
          "base_uri": "https://localhost:8080/",
          "height": 275
        },
        "id": "NYiK-RaqWGJv",
        "outputId": "552fee57-2111-416d-c0da-10f9f587b729"
      },
      "execution_count": 44,
      "outputs": [
        {
          "output_type": "execute_result",
          "data": {
            "text/plain": [
              "Name               : /815km_SSMF/DP16QAM_RRC0.2_28GBd_5ch_SSNLW/LP-50_1/recv\n",
              "Type               : zarr.core.Array\n",
              "Data type          : complex64\n",
              "Shape              : (3500000, 2)\n",
              "Chunk shape        : (109375, 1)\n",
              "Order              : C\n",
              "Read-only          : False\n",
              "Compressor         : Blosc(cname='lz4', clevel=5, shuffle=SHUFFLE, blocksize=0)\n",
              "Store type         : zarr.storage.ConsolidatedMetadataStore\n",
              "Chunk store type   : zarr.storage.FSStore\n",
              "No. bytes          : 56000000 (53.4M)\n",
              "Chunks initialized : 64/64"
            ],
            "text/html": [
              "<table class=\"zarr-info\"><tbody><tr><th style=\"text-align: left\">Name</th><td style=\"text-align: left\">/815km_SSMF/DP16QAM_RRC0.2_28GBd_5ch_SSNLW/LP-50_1/recv</td></tr><tr><th style=\"text-align: left\">Type</th><td style=\"text-align: left\">zarr.core.Array</td></tr><tr><th style=\"text-align: left\">Data type</th><td style=\"text-align: left\">complex64</td></tr><tr><th style=\"text-align: left\">Shape</th><td style=\"text-align: left\">(3500000, 2)</td></tr><tr><th style=\"text-align: left\">Chunk shape</th><td style=\"text-align: left\">(109375, 1)</td></tr><tr><th style=\"text-align: left\">Order</th><td style=\"text-align: left\">C</td></tr><tr><th style=\"text-align: left\">Read-only</th><td style=\"text-align: left\">False</td></tr><tr><th style=\"text-align: left\">Compressor</th><td style=\"text-align: left\">Blosc(cname='lz4', clevel=5, shuffle=SHUFFLE, blocksize=0)</td></tr><tr><th style=\"text-align: left\">Store type</th><td style=\"text-align: left\">zarr.storage.ConsolidatedMetadataStore</td></tr><tr><th style=\"text-align: left\">Chunk store type</th><td style=\"text-align: left\">zarr.storage.FSStore</td></tr><tr><th style=\"text-align: left\">No. bytes</th><td style=\"text-align: left\">56000000 (53.4M)</td></tr><tr><th style=\"text-align: left\">Chunks initialized</th><td style=\"text-align: left\">64/64</td></tr></tbody></table>"
            ]
          },
          "metadata": {},
          "execution_count": 44
        }
      ]
    },
    {
      "cell_type": "code",
      "source": [
        "dict(data_groups[0].attrs)"
      ],
      "metadata": {
        "colab": {
          "base_uri": "https://localhost:8080/"
        },
        "id": "8w9prGTCWP-w",
        "outputId": "ee2b6a5f-5b94-4a75-f9b3-e4c99455549d"
      },
      "execution_count": 45,
      "outputs": [
        {
          "output_type": "execute_result",
          "data": {
            "text/plain": [
              "{'lpdbm': -5.0, 'lpw': 0.00031622776601683794}"
            ]
          },
          "metadata": {},
          "execution_count": 45
        }
      ]
    },
    {
      "cell_type": "code",
      "source": [
        "%time data_groups[0]['recv'][:100000]"
      ],
      "metadata": {
        "colab": {
          "base_uri": "https://localhost:8080/"
        },
        "id": "oazqXxTEivBp",
        "outputId": "826f7a1b-225a-4c09-9ba5-154d706e225f"
      },
      "execution_count": 49,
      "outputs": [
        {
          "output_type": "stream",
          "name": "stdout",
          "text": [
            "CPU times: user 38.3 ms, sys: 13 ms, total: 51.3 ms\n",
            "Wall time: 1.64 s\n"
          ]
        },
        {
          "output_type": "execute_result",
          "data": {
            "text/plain": [
              "array([[0.01576975+0.00794949j, 0.0352586 +0.0051209j ],\n",
              "       [0.00963604+0.01388406j, 0.02878105-0.00430515j],\n",
              "       [0.00517682+0.02610067j, 0.00340937-0.00834586j],\n",
              "       ...,\n",
              "       [0.01885321-0.00205476j, 0.0144023 -0.00870907j],\n",
              "       [0.01614487-0.01869958j, 0.02974085-0.02135615j],\n",
              "       [0.01374616-0.04076457j, 0.01778358-0.00815928j]], dtype=complex64)"
            ]
          },
          "metadata": {},
          "execution_count": 49
        }
      ]
    },
    {
      "cell_type": "code",
      "source": [
        "# | 片段                            | 全写/物理含义                                                                                                                                     | 备注与常见用途                                                                                                                    |\n",
        "# | ----------------------------- | ------------------------------------------------------------------------------------------------------------------------------------------- | -------------------------------------------------------------------------------------------------------------------------- |\n",
        "# | **DP**                        | *Dual-Polarization*                                                                                                                         | 同时发射 X/Y 两个正交偏振，相当于把原来 28 GBd × 50 GB/s 的速率翻倍到 100 GB/s 左右；现代长距光纤系统的默认配置。                                                  |\n",
        "# | **SP**                        | *Single-Polarization*                                                                                                                       | 只用 1 个偏振做基准/对照实验，或在跨距较短、成本敏感的场景下使用。                                                                                        |\n",
        "# | **16QAM / QPSK**              | 调制格式 (4 bit/符 or 2 bit/符)                                                                                                                   | 高阶调制对光纤非线性和噪声更敏感，常用来验证不同补偿算法的增益。                                                                                           |\n",
        "# | **RRC0.2 / RRC0.1 / RRC0.01** | *Root-Raised-Cosine* 成形滤波，roll-off = 0.20 / 0.10 / 0.01                                                                                     | roll-off 越小，信号频谱越窄，频域重叠越少，但时域尾巴越长，对定时恢复要求更高。                                                                               |\n",
        "# | **28GBd / 34GBd**             | 符号率，**Gbaud**                                                                                                                 | 34 GBd 代表更宽的带宽占用和更高的光纤非线性压力。                                                                                               |\n",
        "# | **1ch / 5ch**                 | DWDM 信道数                                                                                                                                    | **1 ch** → 单载波；**5 ch** → 中心信道 + 4 个邻道，主要用来研究 XPM/XCI（信道间非线性串扰）。                                                           |\n",
        "# | **SSNLW**                     | *Single-Span Non-Linear Wideband*<br>（README 原话：*“fit-to-lab single-span link with full wideband non-linearity & higher-order dispersion”*） | 在一次 815 km SSMF 跨距里，启用更加细致的仿真：<br>• 三阶色散 β₃<br>• Raman 增益起伏<br>• ASE 噪声随波长变化<br>所以 SSNLW 版本比 “理想链路” 的 SNR/Q 值低一点，更接近实验室实测。 |\n",
        "# | **LP-47\\_1**                  | 发射功率档 −4.7 dBm，第 1 个随机种子（replicate id）                                                                                                      | `-47/10 = -4.7 dBm`，同一功率通常做 4\\~8 组随机 PRBS，以便统计 BER/Q 的方差。                                                                  |\n"
      ],
      "metadata": {
        "id": "Ebpuvh-4jl7A"
      },
      "execution_count": null,
      "outputs": []
    }
  ]
}